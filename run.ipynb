{
  "cells": [
    {
      "cell_type": "markdown",
      "metadata": {},
      "source": [
        "### Thông tin về GPU"
      ]
    },
    {
      "cell_type": "code",
      "execution_count": 1,
      "metadata": {
        "colab": {
          "base_uri": "https://localhost:8080/"
        },
        "id": "zWNxfr22P4tA",
        "outputId": "f6e8c571-67db-47ab-f91c-f89cb4853655"
      },
      "outputs": [
        {
          "name": "stdout",
          "output_type": "stream",
          "text": [
            "GPU compute capability: 7.5\n"
          ]
        }
      ],
      "source": [
        "from numba import cuda\n",
        "major, minor = cuda.get_current_device().compute_capability\n",
        "print(f'GPU compute capability: {major}.{minor}')"
      ]
    },
    {
      "cell_type": "markdown",
      "metadata": {},
      "source": [
        "### Khởi tạo project"
      ]
    },
    {
      "cell_type": "code",
      "execution_count": 2,
      "metadata": {
        "colab": {
          "base_uri": "https://localhost:8080/"
        },
        "id": "qFJqzslDQMeU",
        "outputId": "74933d4a-b22a-4273-b6c6-8b735434660d"
      },
      "outputs": [
        {
          "name": "stdout",
          "output_type": "stream",
          "text": [
            "/content\n",
            "Cloning into 'cuda'...\n",
            "remote: Enumerating objects: 644, done.\u001b[K\n",
            "remote: Counting objects: 100% (192/192), done.\u001b[K\n",
            "remote: Compressing objects: 100% (134/134), done.\u001b[K\n",
            "remote: Total 644 (delta 117), reused 122 (delta 52), pack-reused 452\u001b[K\n",
            "Receiving objects: 100% (644/644), 42.53 MiB | 21.59 MiB/s, done.\n",
            "Resolving deltas: 100% (173/173), done.\n"
          ]
        }
      ],
      "source": [
        "%cd /content\n",
        "!rm -rf cuda\n",
        "!git clone -b main https://github.com/vietddude/cuda.git"
      ]
    },
    {
      "cell_type": "code",
      "execution_count": 3,
      "metadata": {
        "colab": {
          "base_uri": "https://localhost:8080/"
        },
        "id": "TjPM_r_qQXX9",
        "outputId": "d7fbaf35-9727-4c7f-9807-1dcf82f72007"
      },
      "outputs": [
        {
          "name": "stdout",
          "output_type": "stream",
          "text": [
            "/content/cuda\n"
          ]
        }
      ],
      "source": [
        "%cd /content/cuda"
      ]
    },
    {
      "cell_type": "code",
      "execution_count": 4,
      "metadata": {
        "colab": {
          "base_uri": "https://localhost:8080/"
        },
        "id": "8ndf6ck1QgGa",
        "outputId": "15a80349-9e74-489a-d1e9-33f0ac25b150"
      },
      "outputs": [
        {
          "name": "stdout",
          "output_type": "stream",
          "text": [
            "rm -f save_train_parameters test test_cpu\n",
            "rm -f *.o src/*.o src/layer/*.o src/loss/*.o src/optimizer/*.o src/layer/kernel/*.o\n",
            "make network.o\n",
            "make[1]: Entering directory '/content/cuda'\n",
            "nvcc -arch=sm_75 --compile src/network.cc -o src/network.o -I./ -L/usr/local/cuda/lib64 -lcudart\n",
            "make[1]: Leaving directory '/content/cuda'\n",
            "make mnist.o\n",
            "make[1]: Entering directory '/content/cuda'\n",
            "nvcc -arch=sm_75 --compile src/mnist.cc -o src/mnist.o  -I./ -L/usr/local/cuda/lib64 -lcudart\n",
            "make[1]: Leaving directory '/content/cuda'\n",
            "make layer\n",
            "make[1]: Entering directory '/content/cuda'\n",
            "nvcc -arch=sm_75 --compile src/layer/ave_pooling.cc -o src/layer/ave_pooling.o -I./ -L/usr/local/cuda/lib64 -lcudart\n",
            "nvcc -arch=sm_75 --compile src/layer/conv.cc -o src/layer/conv.o -I./ -L/usr/local/cuda/lib64 -lcudart\n",
            "nvcc -arch=sm_75 --compile src/layer/conv_kernel.cc -o src/layer/conv_kernel.o -I./ -L/usr/local/cuda/lib64 -lcudart\n",
            "nvcc -arch=sm_75 --compile src/layer/fully_connected.cc -o src/layer/fully_connected.o -I./ -L/usr/local/cuda/lib64 -lcudart\n",
            "nvcc -arch=sm_75 --compile src/layer/max_pooling.cc -o src/layer/max_pooling.o -I./ -L/usr/local/cuda/lib64 -lcudart\n",
            "nvcc -arch=sm_75 --compile src/layer/relu.cc -o src/layer/relu.o -I./ -L/usr/local/cuda/lib64 -lcudart\n",
            "nvcc -arch=sm_75 --compile src/layer/sigmoid.cc -o src/layer/sigmoid.o -I./ -L/usr/local/cuda/lib64 -lcudart\n",
            "nvcc -arch=sm_75 --compile src/layer/softmax.cc -o src/layer/softmax.o -I./ -L/usr/local/cuda/lib64 -lcudart\n",
            "make[1]: Leaving directory '/content/cuda'\n",
            "make loss\n",
            "make[1]: Entering directory '/content/cuda'\n",
            "nvcc -arch=sm_75 --compile src/loss/cross_entropy_loss.cc -o src/loss/cross_entropy_loss.o -I./ -L/usr/local/cuda/lib64 -lcudart\n",
            "nvcc -arch=sm_75 --compile src/loss/mse_loss.cc -o src/loss/mse_loss.o -I./ -L/usr/local/cuda/lib64 -lcudart\n",
            "make[1]: Leaving directory '/content/cuda'\n",
            "make optimizer\n",
            "make[1]: Entering directory '/content/cuda'\n",
            "nvcc -arch=sm_75 --compile src/optimizer/sgd.cc -o src/optimizer/sgd.o -I./ -L/usr/local/cuda/lib64 -lcudart\n",
            "make[1]: Leaving directory '/content/cuda'\n"
          ]
        }
      ],
      "source": [
        "!make clean\n",
        "!make setup"
      ]
    },
    {
      "cell_type": "markdown",
      "metadata": {},
      "source": [
        "### Build và chạy file `test_cpu`"
      ]
    },
    {
      "cell_type": "code",
      "execution_count": 5,
      "metadata": {
        "colab": {
          "base_uri": "https://localhost:8080/"
        },
        "id": "77pyBzCYW8PY",
        "outputId": "3e6f6dde-35b9-48d1-b108-3257b5e9efa0"
      },
      "outputs": [
        {
          "name": "stdout",
          "output_type": "stream",
          "text": [
            "rm -f test_cpu\n",
            "rm -f *.o \n",
            "rm -f src/layer/kernel/*.o\n",
            "nvcc -arch=sm_75 --compile src/layer/kernel/kernel.cu -o src/layer/kernel/kernel.o -I./ -L/usr/local/cuda/lib64 -lcudart \n",
            "nvcc -arch=sm_75 --compile src/layer/kernel/kernel_forward_0.cu -o src/layer/kernel/kernel_forward.o -I./ -L/usr/local/cuda/lib64 -lcudart\n",
            "nvcc -arch=sm_75 --compile test_cpu.cc -I./ -L/usr/local/cuda/lib64 -lcudart\n",
            "nvcc -arch=sm_75 --compile src/layer/kernel/kernel.cu -o src/layer/kernel/kernel.o -I./ -L/usr/local/cuda/lib64 -lcudart \n",
            "nvcc -arch=sm_75 -o test_cpu -lm -lcuda -lrt test_cpu.o src/network.o src/mnist.o src/layer/*.o src/loss/*.o src/optimizer/*.o src/layer/kernel/*.o -I./ -L/usr/local/cuda/lib64 -lcudart\n",
            "**********GPU info**********\n",
            "Name: Tesla T4\n",
            "Compute capability: 7.5\n",
            "Num SMs: 40\n",
            "Max num threads per SM: 1024\n",
            "Max num warps per SM: 32\n",
            "GMEM: 15835660288 byte\n",
            "SMEM per SM: 65536 byte\n",
            "SMEM per block: 49152 byte\n",
            "****************************\n",
            "Reading: ./data/fashion/train-images-idx3-ubyte\n",
            "Reading: ./data/fashion/t10k-images-idx3-ubyte\n",
            "Reading: ./data/fashion/train-labels-idx1-ubyte\n",
            "Reading: ./data/fashion/t10k-labels-idx1-ubyte\n",
            "mnist train number: 60000\n",
            "mnist test number: 10000\n",
            "[Convolution layer 1] - CPU time: 33887.5 ms\n",
            "[Convolution layer 3] - CPU time: 29653 ms\n",
            "----------------------------------------\n",
            "CPU accuracy: 0.8296\n"
          ]
        }
      ],
      "source": [
        "!make clean_test_cpu\n",
        "!make kernel_0\n",
        "!make test_cpu\n",
        "!./test_cpu"
      ]
    },
    {
      "cell_type": "markdown",
      "metadata": {},
      "source": [
        "### Build và chạy file kernel cơ bản"
      ]
    },
    {
      "cell_type": "code",
      "execution_count": 6,
      "metadata": {
        "colab": {
          "base_uri": "https://localhost:8080/"
        },
        "id": "ewP8QHDQwtXm",
        "outputId": "3dc4fb49-8654-4dac-9438-fbbc6ff8420a"
      },
      "outputs": [
        {
          "name": "stdout",
          "output_type": "stream",
          "text": [
            "rm -f src/layer/kernel/*.o\n",
            "nvcc -arch=sm_75 --compile src/layer/kernel/kernel.cu -o src/layer/kernel/kernel.o -I./ -L/usr/local/cuda/lib64 -lcudart \n",
            "nvcc -arch=sm_75 --compile src/layer/kernel/kernel_forward_0.cu -o src/layer/kernel/kernel_forward.o -I./ -L/usr/local/cuda/lib64 -lcudart\n",
            "rm -f save_train_parameters test\n",
            "rm -f *.o \n",
            "nvcc -arch=sm_75 --compile test.cc -I./ -L/usr/local/cuda/lib64 -lcudart\n",
            "nvcc -arch=sm_75 -o test -lm -lcuda -lrt test.o src/network.o src/mnist.o src/layer/*.o src/loss/*.o src/optimizer/*.o src/layer/kernel/*.o -I./ -L/usr/local/cuda/lib64 -lcudart\n",
            "**********GPU info**********\n",
            "Name: Tesla T4\n",
            "Compute capability: 7.5\n",
            "Num SMs: 40\n",
            "Max num threads per SM: 1024\n",
            "Max num warps per SM: 32\n",
            "GMEM: 15835660288 byte\n",
            "SMEM per SM: 65536 byte\n",
            "SMEM per block: 49152 byte\n",
            "****************************\n",
            "Reading: ./data/fashion/train-images-idx3-ubyte\n",
            "Reading: ./data/fashion/t10k-images-idx3-ubyte\n",
            "Reading: ./data/fashion/train-labels-idx1-ubyte\n",
            "Reading: ./data/fashion/t10k-labels-idx1-ubyte\n",
            "mnist train number: 60000\n",
            "mnist test number: 10000\n",
            "Basic GPU Convolution layer.\n",
            "[Convolution layer 1] - Kernel time: 120.844 ms\n",
            "Basic GPU Convolution layer.\n",
            "[Convolution layer 3] - Kernel time: 61.8786 ms\n",
            "----------------------------------------\n",
            "GPU accuracy: 0.8296\n"
          ]
        }
      ],
      "source": [
        "!make kernel_0\n",
        "!make clean_test\n",
        "!make test\n",
        "!./test"
      ]
    },
    {
      "cell_type": "markdown",
      "metadata": {},
      "source": [
        "### Build và khởi chạy file tối ưu sử dụng unroll và nhân ma trận"
      ]
    },
    {
      "cell_type": "code",
      "execution_count": 7,
      "metadata": {
        "colab": {
          "base_uri": "https://localhost:8080/"
        },
        "id": "b-uiBvwsjoRA",
        "outputId": "dae4aa51-16ca-4e42-ee08-14feecbd4485"
      },
      "outputs": [
        {
          "name": "stdout",
          "output_type": "stream",
          "text": [
            "rm -f src/layer/kernel/*.o\n",
            "nvcc -arch=sm_75 --compile src/layer/kernel/kernel.cu -o src/layer/kernel/kernel.o -I./ -L/usr/local/cuda/lib64 -lcudart \n",
            "nvcc -arch=sm_75 --compile src/layer/kernel/kernel_forward_1.cu -o src/layer/kernel/kernel_forward.o -I./ -L/usr/local/cuda/lib64 -lcudart\n",
            "rm -f save_train_parameters test\n",
            "rm -f *.o \n",
            "nvcc -arch=sm_75 --compile test.cc -I./ -L/usr/local/cuda/lib64 -lcudart\n",
            "nvcc -arch=sm_75 -o test -lm -lcuda -lrt test.o src/network.o src/mnist.o src/layer/*.o src/loss/*.o src/optimizer/*.o src/layer/kernel/*.o -I./ -L/usr/local/cuda/lib64 -lcudart\n",
            "**********GPU info**********\n",
            "Name: Tesla T4\n",
            "Compute capability: 7.5\n",
            "Num SMs: 40\n",
            "Max num threads per SM: 1024\n",
            "Max num warps per SM: 32\n",
            "GMEM: 15835660288 byte\n",
            "SMEM per SM: 65536 byte\n",
            "SMEM per block: 49152 byte\n",
            "****************************\n",
            "Reading: ./data/fashion/train-images-idx3-ubyte\n",
            "Reading: ./data/fashion/t10k-images-idx3-ubyte\n",
            "Reading: ./data/fashion/train-labels-idx1-ubyte\n",
            "Reading: ./data/fashion/t10k-labels-idx1-ubyte\n",
            "mnist train number: 60000\n",
            "mnist test number: 10000\n",
            "GPU Convolution layer using unroll with matrix multiplication.\n",
            "[Convolution layer 1] - Kernel time: 168.501 ms\n",
            "GPU Convolution layer using unroll with matrix multiplication.\n",
            "[Convolution layer 3] - Kernel time: 76.2519 ms\n",
            "----------------------------------------\n",
            "GPU accuracy: 0.8296\n"
          ]
        }
      ],
      "source": [
        "!make kernel_1\n",
        "!make clean_test\n",
        "!make test\n",
        "!./test"
      ]
    },
    {
      "cell_type": "markdown",
      "metadata": {},
      "source": [
        "### Build và khởi chạy file tối ưu sử dụng tiled shared memory"
      ]
    },
    {
      "cell_type": "code",
      "execution_count": 8,
      "metadata": {
        "colab": {
          "base_uri": "https://localhost:8080/"
        },
        "id": "uS7dOk_YjpBZ",
        "outputId": "b32edc07-b019-4eee-a998-3ac258cb5ec2"
      },
      "outputs": [
        {
          "name": "stdout",
          "output_type": "stream",
          "text": [
            "rm -f src/layer/kernel/*.o\n",
            "nvcc -arch=sm_75 --compile src/layer/kernel/kernel.cu -o src/layer/kernel/kernel.o -I./ -L/usr/local/cuda/lib64 -lcudart \n",
            "nvcc -arch=sm_75 --compile src/layer/kernel/kernel_forward_2.cu -o src/layer/kernel/kernel_forward.o -I./ -L/usr/local/cuda/lib64 -lcudart\n",
            "rm -f save_train_parameters test\n",
            "rm -f *.o \n",
            "nvcc -arch=sm_75 --compile test.cc -I./ -L/usr/local/cuda/lib64 -lcudart\n",
            "nvcc -arch=sm_75 -o test -lm -lcuda -lrt test.o src/network.o src/mnist.o src/layer/*.o src/loss/*.o src/optimizer/*.o src/layer/kernel/*.o -I./ -L/usr/local/cuda/lib64 -lcudart\n",
            "**********GPU info**********\n",
            "Name: Tesla T4\n",
            "Compute capability: 7.5\n",
            "Num SMs: 40\n",
            "Max num threads per SM: 1024\n",
            "Max num warps per SM: 32\n",
            "GMEM: 15835660288 byte\n",
            "SMEM per SM: 65536 byte\n",
            "SMEM per block: 49152 byte\n",
            "****************************\n",
            "Reading: ./data/fashion/train-images-idx3-ubyte\n",
            "Reading: ./data/fashion/t10k-images-idx3-ubyte\n",
            "Reading: ./data/fashion/train-labels-idx1-ubyte\n",
            "Reading: ./data/fashion/t10k-labels-idx1-ubyte\n",
            "mnist train number: 60000\n",
            "mnist test number: 10000\n",
            "GPU Convolution layer optimized using tiled shared memory.\n",
            "[Convolution layer 1] - Kernel time: 143.214 ms\n",
            "GPU Convolution layer optimized using tiled shared memory.\n",
            "[Convolution layer 3] - Kernel time: 73.5277 ms\n",
            "----------------------------------------\n",
            "GPU accuracy: 0.8296\n"
          ]
        }
      ],
      "source": [
        "!make kernel_2\n",
        "!make clean_test\n",
        "!make test\n",
        "!./test"
      ]
    }
  ],
  "metadata": {
    "accelerator": "GPU",
    "colab": {
      "gpuType": "T4",
      "provenance": []
    },
    "kernelspec": {
      "display_name": "Python 3",
      "name": "python3"
    },
    "language_info": {
      "name": "python"
    }
  },
  "nbformat": 4,
  "nbformat_minor": 0
}
