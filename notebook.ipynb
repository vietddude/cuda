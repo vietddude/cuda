{
  "cells": [
    {
      "cell_type": "code",
      "execution_count": 1,
      "metadata": {
        "colab": {
          "base_uri": "https://localhost:8080/"
        },
        "id": "zWNxfr22P4tA",
        "outputId": "87b342eb-0633-4687-a732-c680bacb4a2d"
      },
      "outputs": [
        {
          "name": "stdout",
          "output_type": "stream",
          "text": [
            "GPU compute capability: 7.5\n"
          ]
        }
      ],
      "source": [
        "from numba import cuda\n",
        "major, minor = cuda.get_current_device().compute_capability\n",
        "print(f'GPU compute capability: {major}.{minor}')"
      ]
    },
    {
      "cell_type": "code",
      "execution_count": 2,
      "metadata": {
        "colab": {
          "base_uri": "https://localhost:8080/"
        },
        "id": "qFJqzslDQMeU",
        "outputId": "da1773b1-945e-400c-b75e-28a44cf2200b"
      },
      "outputs": [
        {
          "name": "stdout",
          "output_type": "stream",
          "text": [
            "/content\n",
            "Cloning into 'cuda'...\n",
            "remote: Enumerating objects: 551, done.\u001b[K\n",
            "remote: Counting objects: 100% (99/99), done.\u001b[K\n",
            "remote: Compressing objects: 100% (71/71), done.\u001b[K\n",
            "remote: Total 551 (delta 55), reused 66 (delta 24), pack-reused 452\u001b[K\n",
            "Receiving objects: 100% (551/551), 42.14 MiB | 20.34 MiB/s, done.\n",
            "Resolving deltas: 100% (111/111), done.\n",
            "Updating files: 100% (396/396), done.\n"
          ]
        }
      ],
      "source": [
        "%cd /content\n",
        "!rm -rf cuda\n",
        "!git clone -b main https://github.com/vietddude/cuda.git"
      ]
    },
    {
      "cell_type": "code",
      "execution_count": 3,
      "metadata": {
        "colab": {
          "base_uri": "https://localhost:8080/"
        },
        "id": "TjPM_r_qQXX9",
        "outputId": "b105a202-1577-40f4-b4a9-e53b9ad86520"
      },
      "outputs": [
        {
          "name": "stdout",
          "output_type": "stream",
          "text": [
            "/content/cuda\n"
          ]
        }
      ],
      "source": [
        "%cd /content/cuda"
      ]
    },
    {
      "cell_type": "code",
      "execution_count": 4,
      "metadata": {
        "colab": {
          "base_uri": "https://localhost:8080/"
        },
        "id": "8ndf6ck1QgGa",
        "outputId": "a72f96eb-a87e-4fe5-bba6-16b2c325c0dd"
      },
      "outputs": [
        {
          "name": "stdout",
          "output_type": "stream",
          "text": [
            "rm -f save_train_parameters test\n",
            "rm -f *.o src/*.o src/layer/*.o src/loss/*.o src/optimizer/*.o src/layer/kernel/*.o\n",
            "make network.o\n",
            "make[1]: Entering directory '/content/cuda'\n",
            "nvcc -arch=sm_75 --compile src/network.cc -o src/network.o -I./ -L/usr/local/cuda/lib64 -lcudart\n",
            "make[1]: Leaving directory '/content/cuda'\n",
            "make mnist.o\n",
            "make[1]: Entering directory '/content/cuda'\n",
            "nvcc -arch=sm_75 --compile src/mnist.cc -o src/mnist.o  -I./ -L/usr/local/cuda/lib64 -lcudart\n",
            "make[1]: Leaving directory '/content/cuda'\n",
            "make layer\n",
            "make[1]: Entering directory '/content/cuda'\n",
            "nvcc -arch=sm_75 --compile src/layer/ave_pooling.cc -o src/layer/ave_pooling.o -I./ -L/usr/local/cuda/lib64 -lcudart\n",
            "nvcc -arch=sm_75 --compile src/layer/conv.cc -o src/layer/conv.o -I./ -L/usr/local/cuda/lib64 -lcudart\n",
            "nvcc -arch=sm_75 --compile src/layer/conv_kernel.cc -o src/layer/conv_kernel.o -I./ -L/usr/local/cuda/lib64 -lcudart\n",
            "nvcc -arch=sm_75 --compile src/layer/fully_connected.cc -o src/layer/fully_connected.o -I./ -L/usr/local/cuda/lib64 -lcudart\n",
            "nvcc -arch=sm_75 --compile src/layer/max_pooling.cc -o src/layer/max_pooling.o -I./ -L/usr/local/cuda/lib64 -lcudart\n",
            "nvcc -arch=sm_75 --compile src/layer/relu.cc -o src/layer/relu.o -I./ -L/usr/local/cuda/lib64 -lcudart\n",
            "nvcc -arch=sm_75 --compile src/layer/sigmoid.cc -o src/layer/sigmoid.o -I./ -L/usr/local/cuda/lib64 -lcudart\n",
            "nvcc -arch=sm_75 --compile src/layer/softmax.cc -o src/layer/softmax.o -I./ -L/usr/local/cuda/lib64 -lcudart\n",
            "make[1]: Leaving directory '/content/cuda'\n",
            "make loss\n",
            "make[1]: Entering directory '/content/cuda'\n",
            "nvcc -arch=sm_75 --compile src/loss/cross_entropy_loss.cc -o src/loss/cross_entropy_loss.o -I./ -L/usr/local/cuda/lib64 -lcudart\n",
            "nvcc -arch=sm_75 --compile src/loss/mse_loss.cc -o src/loss/mse_loss.o -I./ -L/usr/local/cuda/lib64 -lcudart\n",
            "make[1]: Leaving directory '/content/cuda'\n",
            "make optimizer\n",
            "make[1]: Entering directory '/content/cuda'\n",
            "nvcc -arch=sm_75 --compile src/optimizer/sgd.cc -o src/optimizer/sgd.o -I./ -L/usr/local/cuda/lib64 -lcudart\n",
            "make[1]: Leaving directory '/content/cuda'\n"
          ]
        }
      ],
      "source": [
        "!make clean\n",
        "!make setup"
      ]
    },
    {
      "cell_type": "code",
      "execution_count": 5,
      "metadata": {
        "colab": {
          "base_uri": "https://localhost:8080/"
        },
        "id": "77pyBzCYW8PY",
        "outputId": "a2a8164a-0bfa-4689-84f0-112a653c04e9"
      },
      "outputs": [
        {
          "name": "stdout",
          "output_type": "stream",
          "text": [
            "rm -f src/layer/kernel/*.o\n",
            "nvcc -arch=sm_75 --compile src/layer/kernel/kernel.cu -o src/layer/kernel/kernel.o -I./ -L/usr/local/cuda/lib64 -lcudart \n",
            "nvcc -arch=sm_75 --compile src/layer/kernel/kernel_forward_0.cu -o src/layer/kernel/kernel_forward.o -I./ -L/usr/local/cuda/lib64 -lcudart\n",
            "nvcc -arch=sm_75 --compile test.cc -I./ -L/usr/local/cuda/lib64 -lcudart\n",
            "nvcc -arch=sm_75 -o test -lm -lcuda -lrt test.o src/network.o src/mnist.o src/layer/*.o src/loss/*.o src/optimizer/*.o src/layer/kernel/*.o -I./ -L/usr/local/cuda/lib64 -lcudart\n",
            "**********GPU info**********\n",
            "Name: Tesla T4\n",
            "Compute capability: 7.5\n",
            "Num SMs: 40\n",
            "Max num threads per SM: 1024\n",
            "Max num warps per SM: 32\n",
            "GMEM: 15835660288 byte\n",
            "SMEM per SM: 65536 byte\n",
            "SMEM per block: 49152 byte\n",
            "****************************\n",
            "Reading: ./data/fashion/train-images-idx3-ubyte\n",
            "Reading: ./data/fashion/t10k-images-idx3-ubyte\n",
            "Reading: ./data/fashion/train-labels-idx1-ubyte\n",
            "Reading: ./data/fashion/t10k-labels-idx1-ubyte\n",
            "mnist train number: 60000\n",
            "mnist test number: 10000\n",
            "==============================\n",
            "[Convolution layer 1] - CPU time: 38202.9 ms\n",
            "[Convolution layer 3] - CPU time: 33348.5 ms\n",
            "CPU accuracy: 0.8296\n",
            "==============================\n",
            "Basic GPU Convolution layer.\n",
            "[Convolution layer 1] - Kernel time: 155.004 ms\n",
            "Basic GPU Convolution layer.\n",
            "[Convolution layer 3] - Kernel time: 64.3553 ms\n",
            "GPU accuracy: 0.8296\n"
          ]
        }
      ],
      "source": [
        "!make clean_test_cpu\n",
        "!make test_cpu\n",
        "!./test_cpu"
      ]
    },
    {
      "cell_type": "code",
      "execution_count": null,
      "metadata": {},
      "outputs": [],
      "source": [
        "!make kernel_0\n",
        "!make clean_test\n",
        "!make test\n",
        "!./test"
      ]
    },
    {
      "cell_type": "code",
      "execution_count": 8,
      "metadata": {
        "colab": {
          "base_uri": "https://localhost:8080/"
        },
        "id": "b-uiBvwsjoRA",
        "outputId": "d97428e0-ee0e-438c-8ec2-2bc6fcd3b630"
      },
      "outputs": [
        {
          "name": "stdout",
          "output_type": "stream",
          "text": [
            "rm -f src/layer/kernel/*.o\n",
            "nvcc -arch=sm_75 --compile src/layer/kernel/kernel.cu -o src/layer/kernel/kernel.o -I./ -L/usr/local/cuda/lib64 -lcudart \n",
            "nvcc -arch=sm_75 --compile src/layer/kernel/kernel_forward_1.cu -o src/layer/kernel/kernel_forward.o -I./ -L/usr/local/cuda/lib64 -lcudart\n",
            "rm -f save_train_parameters test\n",
            "rm -f *.o \n",
            "nvcc -arch=sm_75 --compile test.cc -I./ -L/usr/local/cuda/lib64 -lcudart\n",
            "nvcc -arch=sm_75 -o test -lm -lcuda -lrt test.o src/network.o src/mnist.o src/layer/*.o src/loss/*.o src/optimizer/*.o src/layer/kernel/*.o -I./ -L/usr/local/cuda/lib64 -lcudart\n",
            "**********GPU info**********\n",
            "Name: Tesla T4\n",
            "Compute capability: 7.5\n",
            "Num SMs: 40\n",
            "Max num threads per SM: 1024\n",
            "Max num warps per SM: 32\n",
            "GMEM: 15835660288 byte\n",
            "SMEM per SM: 65536 byte\n",
            "SMEM per block: 49152 byte\n",
            "****************************\n",
            "Reading: ./data/fashion/train-images-idx3-ubyte\n",
            "Reading: ./data/fashion/t10k-images-idx3-ubyte\n",
            "Reading: ./data/fashion/train-labels-idx1-ubyte\n",
            "Reading: ./data/fashion/t10k-labels-idx1-ubyte\n",
            "mnist train number: 60000\n",
            "mnist test number: 10000\n",
            "==============================\n",
            "[Convolution layer 1] - CPU time: 38131.5 ms\n",
            "[Convolution layer 3] - CPU time: 33330.7 ms\n",
            "CPU accuracy: 0.8296\n",
            "==============================\n",
            "GPU Convolution layer using unroll with matrix multiplication.\n",
            "[Convolution layer 1] - Kernel time: 176.094 ms\n",
            "GPU Convolution layer using unroll with matrix multiplication.\n",
            "[Convolution layer 3] - Kernel time: 78.9874 ms\n",
            "GPU accuracy: 0.8296\n"
          ]
        }
      ],
      "source": [
        "!make kernel_1\n",
        "!make clean_test\n",
        "!make test\n",
        "!./test"
      ]
    },
    {
      "cell_type": "code",
      "execution_count": 9,
      "metadata": {
        "colab": {
          "base_uri": "https://localhost:8080/"
        },
        "id": "uS7dOk_YjpBZ",
        "outputId": "a572176c-53b8-4ed6-f1cc-bd3ce217dbda"
      },
      "outputs": [
        {
          "name": "stdout",
          "output_type": "stream",
          "text": [
            "rm -f src/layer/kernel/*.o\n",
            "nvcc -arch=sm_75 --compile src/layer/kernel/kernel.cu -o src/layer/kernel/kernel.o -I./ -L/usr/local/cuda/lib64 -lcudart \n",
            "nvcc -arch=sm_75 --compile src/layer/kernel/kernel_forward_2.cu -o src/layer/kernel/kernel_forward.o -I./ -L/usr/local/cuda/lib64 -lcudart\n",
            "rm -f save_train_parameters test\n",
            "rm -f *.o \n",
            "nvcc -arch=sm_75 --compile test.cc -I./ -L/usr/local/cuda/lib64 -lcudart\n",
            "nvcc -arch=sm_75 -o test -lm -lcuda -lrt test.o src/network.o src/mnist.o src/layer/*.o src/loss/*.o src/optimizer/*.o src/layer/kernel/*.o -I./ -L/usr/local/cuda/lib64 -lcudart\n",
            "**********GPU info**********\n",
            "Name: Tesla T4\n",
            "Compute capability: 7.5\n",
            "Num SMs: 40\n",
            "Max num threads per SM: 1024\n",
            "Max num warps per SM: 32\n",
            "GMEM: 15835660288 byte\n",
            "SMEM per SM: 65536 byte\n",
            "SMEM per block: 49152 byte\n",
            "****************************\n",
            "Reading: ./data/fashion/train-images-idx3-ubyte\n",
            "Reading: ./data/fashion/t10k-images-idx3-ubyte\n",
            "Reading: ./data/fashion/train-labels-idx1-ubyte\n",
            "Reading: ./data/fashion/t10k-labels-idx1-ubyte\n",
            "mnist train number: 60000\n",
            "mnist test number: 10000\n",
            "==============================\n",
            "[Convolution layer 1] - CPU time: 36135 ms\n",
            "[Convolution layer 3] - CPU time: 31947.2 ms\n",
            "CPU accuracy: 0.8296\n",
            "==============================\n",
            "GPU Convolution layer optimized ver 3.\n",
            "[Convolution layer 1] - Kernel time: 135.916 ms\n",
            "GPU Convolution layer optimized ver 3.\n",
            "[Convolution layer 3] - Kernel time: 254.415 ms\n",
            "GPU accuracy: 0.8296\n"
          ]
        }
      ],
      "source": [
        "!make kernel_2\n",
        "!make clean_test\n",
        "!make test\n",
        "!./test"
      ]
    }
  ],
  "metadata": {
    "accelerator": "GPU",
    "colab": {
      "gpuType": "T4",
      "provenance": []
    },
    "kernelspec": {
      "display_name": "Python 3",
      "name": "python3"
    },
    "language_info": {
      "name": "python"
    }
  },
  "nbformat": 4,
  "nbformat_minor": 0
}
