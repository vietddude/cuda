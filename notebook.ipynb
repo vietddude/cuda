{
  "cells": [
    {
      "cell_type": "code",
      "execution_count": 1,
      "metadata": {
        "colab": {
          "base_uri": "https://localhost:8080/"
        },
        "id": "zWNxfr22P4tA",
        "outputId": "6f032c64-d055-40cd-d3af-4198b28f055d"
      },
      "outputs": [
        {
          "output_type": "stream",
          "name": "stdout",
          "text": [
            "GPU compute capability: 7.5\n"
          ]
        }
      ],
      "source": [
        "from numba import cuda\n",
        "major, minor = cuda.get_current_device().compute_capability\n",
        "print(f'GPU compute capability: {major}.{minor}')"
      ]
    },
    {
      "cell_type": "code",
      "execution_count": 2,
      "metadata": {
        "colab": {
          "base_uri": "https://localhost:8080/"
        },
        "id": "qFJqzslDQMeU",
        "outputId": "c412b468-9e60-4a2b-f050-0f18f3496378"
      },
      "outputs": [
        {
          "output_type": "stream",
          "name": "stdout",
          "text": [
            "/content\n",
            "Cloning into 'cuda'...\n",
            "remote: Enumerating objects: 564, done.\u001b[K\n",
            "remote: Counting objects: 100% (112/112), done.\u001b[K\n",
            "remote: Compressing objects: 100% (80/80), done.\u001b[K\n",
            "remote: Total 564 (delta 61), reused 76 (delta 27), pack-reused 452\u001b[K\n",
            "Receiving objects: 100% (564/564), 42.15 MiB | 18.87 MiB/s, done.\n",
            "Resolving deltas: 100% (117/117), done.\n"
          ]
        }
      ],
      "source": [
        "%cd /content\n",
        "!rm -rf cuda\n",
        "!git clone -b main https://github.com/vietddude/cuda.git"
      ]
    },
    {
      "cell_type": "code",
      "execution_count": 3,
      "metadata": {
        "colab": {
          "base_uri": "https://localhost:8080/"
        },
        "id": "TjPM_r_qQXX9",
        "outputId": "a473d5a4-9ea7-4ab3-ffbe-e27f748c4bb8"
      },
      "outputs": [
        {
          "output_type": "stream",
          "name": "stdout",
          "text": [
            "/content/cuda\n"
          ]
        }
      ],
      "source": [
        "%cd /content/cuda"
      ]
    },
    {
      "cell_type": "code",
      "execution_count": 4,
      "metadata": {
        "colab": {
          "base_uri": "https://localhost:8080/"
        },
        "id": "8ndf6ck1QgGa",
        "outputId": "90297923-9eed-45e8-9e1d-e63cb1dc2b3f"
      },
      "outputs": [
        {
          "output_type": "stream",
          "name": "stdout",
          "text": [
            "rm -f save_train_parameters test test_cpu\n",
            "rm -f *.o src/*.o src/layer/*.o src/loss/*.o src/optimizer/*.o src/layer/kernel/*.o\n",
            "make network.o\n",
            "make[1]: Entering directory '/content/cuda'\n",
            "nvcc -arch=sm_75 --compile src/network.cc -o src/network.o -I./ -L/usr/local/cuda/lib64 -lcudart\n",
            "make[1]: Leaving directory '/content/cuda'\n",
            "make mnist.o\n",
            "make[1]: Entering directory '/content/cuda'\n",
            "nvcc -arch=sm_75 --compile src/mnist.cc -o src/mnist.o  -I./ -L/usr/local/cuda/lib64 -lcudart\n",
            "make[1]: Leaving directory '/content/cuda'\n",
            "make layer\n",
            "make[1]: Entering directory '/content/cuda'\n",
            "nvcc -arch=sm_75 --compile src/layer/ave_pooling.cc -o src/layer/ave_pooling.o -I./ -L/usr/local/cuda/lib64 -lcudart\n",
            "nvcc -arch=sm_75 --compile src/layer/conv.cc -o src/layer/conv.o -I./ -L/usr/local/cuda/lib64 -lcudart\n",
            "nvcc -arch=sm_75 --compile src/layer/conv_kernel.cc -o src/layer/conv_kernel.o -I./ -L/usr/local/cuda/lib64 -lcudart\n",
            "nvcc -arch=sm_75 --compile src/layer/fully_connected.cc -o src/layer/fully_connected.o -I./ -L/usr/local/cuda/lib64 -lcudart\n",
            "nvcc -arch=sm_75 --compile src/layer/max_pooling.cc -o src/layer/max_pooling.o -I./ -L/usr/local/cuda/lib64 -lcudart\n",
            "nvcc -arch=sm_75 --compile src/layer/relu.cc -o src/layer/relu.o -I./ -L/usr/local/cuda/lib64 -lcudart\n",
            "nvcc -arch=sm_75 --compile src/layer/sigmoid.cc -o src/layer/sigmoid.o -I./ -L/usr/local/cuda/lib64 -lcudart\n",
            "nvcc -arch=sm_75 --compile src/layer/softmax.cc -o src/layer/softmax.o -I./ -L/usr/local/cuda/lib64 -lcudart\n",
            "make[1]: Leaving directory '/content/cuda'\n",
            "make loss\n",
            "make[1]: Entering directory '/content/cuda'\n",
            "nvcc -arch=sm_75 --compile src/loss/cross_entropy_loss.cc -o src/loss/cross_entropy_loss.o -I./ -L/usr/local/cuda/lib64 -lcudart\n",
            "nvcc -arch=sm_75 --compile src/loss/mse_loss.cc -o src/loss/mse_loss.o -I./ -L/usr/local/cuda/lib64 -lcudart\n",
            "make[1]: Leaving directory '/content/cuda'\n",
            "make optimizer\n",
            "make[1]: Entering directory '/content/cuda'\n",
            "nvcc -arch=sm_75 --compile src/optimizer/sgd.cc -o src/optimizer/sgd.o -I./ -L/usr/local/cuda/lib64 -lcudart\n",
            "make[1]: Leaving directory '/content/cuda'\n"
          ]
        }
      ],
      "source": [
        "!make clean\n",
        "!make setup"
      ]
    },
    {
      "cell_type": "code",
      "execution_count": null,
      "metadata": {
        "id": "77pyBzCYW8PY"
      },
      "outputs": [],
      "source": [
        "!make clean_test_cpu\n",
        "!make test_cpu\n",
        "!./test_cpu"
      ]
    },
    {
      "cell_type": "code",
      "execution_count": null,
      "metadata": {
        "id": "OW0OgMtwv1k3"
      },
      "outputs": [],
      "source": [
        "!make kernel_0\n",
        "!make clean_test\n",
        "!make test\n",
        "!./test"
      ]
    },
    {
      "cell_type": "code",
      "execution_count": null,
      "metadata": {
        "id": "b-uiBvwsjoRA"
      },
      "outputs": [],
      "source": [
        "!make kernel_1\n",
        "!make clean_test\n",
        "!make test\n",
        "!./test"
      ]
    },
    {
      "cell_type": "code",
      "execution_count": null,
      "metadata": {
        "id": "uS7dOk_YjpBZ"
      },
      "outputs": [],
      "source": [
        "!make kernel_2\n",
        "!make clean_test\n",
        "!make test\n",
        "!./test"
      ]
    }
  ],
  "metadata": {
    "accelerator": "GPU",
    "colab": {
      "gpuType": "T4",
      "provenance": []
    },
    "kernelspec": {
      "display_name": "Python 3",
      "name": "python3"
    },
    "language_info": {
      "name": "python"
    }
  },
  "nbformat": 4,
  "nbformat_minor": 0
}