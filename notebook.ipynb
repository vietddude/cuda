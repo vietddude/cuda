{
  "cells": [
    {
      "cell_type": "code",
      "execution_count": 1,
      "metadata": {
        "colab": {
          "base_uri": "https://localhost:8080/"
        },
        "id": "zWNxfr22P4tA",
        "outputId": "3cc89a15-cde5-46cc-9c66-f961a2621b45"
      },
      "outputs": [
        {
          "output_type": "stream",
          "name": "stdout",
          "text": [
            "GPU compute capability: 7.5\n"
          ]
        }
      ],
      "source": [
        "from numba import cuda\n",
        "major, minor = cuda.get_current_device().compute_capability\n",
        "print(f'GPU compute capability: {major}.{minor}')"
      ]
    },
    {
      "cell_type": "code",
      "execution_count": 2,
      "metadata": {
        "colab": {
          "base_uri": "https://localhost:8080/"
        },
        "id": "qFJqzslDQMeU",
        "outputId": "d9cd1d90-a0a6-41a8-9af4-5e4c2f97c3a6"
      },
      "outputs": [
        {
          "output_type": "stream",
          "name": "stdout",
          "text": [
            "/content\n",
            "Cloning into 'cuda'...\n",
            "remote: Enumerating objects: 577, done.\u001b[K\n",
            "remote: Counting objects: 100% (125/125), done.\u001b[K\n",
            "remote: Compressing objects: 100% (91/91), done.\u001b[K\n",
            "remote: Total 577 (delta 70), reused 81 (delta 29), pack-reused 452\u001b[K\n",
            "Receiving objects: 100% (577/577), 42.15 MiB | 20.33 MiB/s, done.\n",
            "Resolving deltas: 100% (126/126), done.\n"
          ]
        }
      ],
      "source": [
        "%cd /content\n",
        "!rm -rf cuda\n",
        "!git clone -b main https://github.com/vietddude/cuda.git"
      ]
    },
    {
      "cell_type": "code",
      "execution_count": 3,
      "metadata": {
        "colab": {
          "base_uri": "https://localhost:8080/"
        },
        "id": "TjPM_r_qQXX9",
        "outputId": "b649edf4-40ad-4f36-edb0-88d189ec1cff"
      },
      "outputs": [
        {
          "output_type": "stream",
          "name": "stdout",
          "text": [
            "/content/cuda\n"
          ]
        }
      ],
      "source": [
        "%cd /content/cuda"
      ]
    },
    {
      "cell_type": "code",
      "execution_count": 4,
      "metadata": {
        "colab": {
          "base_uri": "https://localhost:8080/"
        },
        "id": "8ndf6ck1QgGa",
        "outputId": "00a20f5f-2b4b-4e64-cf7e-062ef61010bb"
      },
      "outputs": [
        {
          "output_type": "stream",
          "name": "stdout",
          "text": [
            "rm -f save_train_parameters test test_cpu\n",
            "rm -f *.o src/*.o src/layer/*.o src/loss/*.o src/optimizer/*.o src/layer/kernel/*.o\n",
            "make network.o\n",
            "make[1]: Entering directory '/content/cuda'\n",
            "nvcc -arch=sm_75 --compile src/network.cc -o src/network.o -I./ -L/usr/local/cuda/lib64 -lcudart\n",
            "make[1]: Leaving directory '/content/cuda'\n",
            "make mnist.o\n",
            "make[1]: Entering directory '/content/cuda'\n",
            "nvcc -arch=sm_75 --compile src/mnist.cc -o src/mnist.o  -I./ -L/usr/local/cuda/lib64 -lcudart\n",
            "make[1]: Leaving directory '/content/cuda'\n",
            "make layer\n",
            "make[1]: Entering directory '/content/cuda'\n",
            "nvcc -arch=sm_75 --compile src/layer/ave_pooling.cc -o src/layer/ave_pooling.o -I./ -L/usr/local/cuda/lib64 -lcudart\n",
            "nvcc -arch=sm_75 --compile src/layer/conv.cc -o src/layer/conv.o -I./ -L/usr/local/cuda/lib64 -lcudart\n",
            "nvcc -arch=sm_75 --compile src/layer/conv_kernel.cc -o src/layer/conv_kernel.o -I./ -L/usr/local/cuda/lib64 -lcudart\n",
            "nvcc -arch=sm_75 --compile src/layer/fully_connected.cc -o src/layer/fully_connected.o -I./ -L/usr/local/cuda/lib64 -lcudart\n",
            "nvcc -arch=sm_75 --compile src/layer/max_pooling.cc -o src/layer/max_pooling.o -I./ -L/usr/local/cuda/lib64 -lcudart\n",
            "nvcc -arch=sm_75 --compile src/layer/relu.cc -o src/layer/relu.o -I./ -L/usr/local/cuda/lib64 -lcudart\n",
            "nvcc -arch=sm_75 --compile src/layer/sigmoid.cc -o src/layer/sigmoid.o -I./ -L/usr/local/cuda/lib64 -lcudart\n",
            "nvcc -arch=sm_75 --compile src/layer/softmax.cc -o src/layer/softmax.o -I./ -L/usr/local/cuda/lib64 -lcudart\n",
            "make[1]: Leaving directory '/content/cuda'\n",
            "make loss\n",
            "make[1]: Entering directory '/content/cuda'\n",
            "nvcc -arch=sm_75 --compile src/loss/cross_entropy_loss.cc -o src/loss/cross_entropy_loss.o -I./ -L/usr/local/cuda/lib64 -lcudart\n",
            "nvcc -arch=sm_75 --compile src/loss/mse_loss.cc -o src/loss/mse_loss.o -I./ -L/usr/local/cuda/lib64 -lcudart\n",
            "make[1]: Leaving directory '/content/cuda'\n",
            "make optimizer\n",
            "make[1]: Entering directory '/content/cuda'\n",
            "nvcc -arch=sm_75 --compile src/optimizer/sgd.cc -o src/optimizer/sgd.o -I./ -L/usr/local/cuda/lib64 -lcudart\n",
            "make[1]: Leaving directory '/content/cuda'\n"
          ]
        }
      ],
      "source": [
        "!make clean\n",
        "!make setup"
      ]
    },
    {
      "cell_type": "code",
      "execution_count": 9,
      "metadata": {
        "colab": {
          "base_uri": "https://localhost:8080/"
        },
        "id": "77pyBzCYW8PY",
        "outputId": "d6c88c24-6afc-488f-dc07-cc0abe9bf570"
      },
      "outputs": [
        {
          "output_type": "stream",
          "name": "stdout",
          "text": [
            "rm -f test_cpu\n",
            "rm -f *.o \n",
            "nvcc -arch=sm_75 --compile test_cpu.cc -I./ -L/usr/local/cuda/lib64 -lcudart\n",
            "nvcc -arch=sm_75 --compile src/layer/kernel/kernel.cu -o src/layer/kernel/kernel.o -I./ -L/usr/local/cuda/lib64 -lcudart \n",
            "nvcc -arch=sm_75 -o test_cpu -lm -lcuda -lrt test_cpu.o src/network.o src/mnist.o src/layer/*.o src/loss/*.o src/optimizer/*.o src/layer/kernel/*.o -I./ -L/usr/local/cuda/lib64 -lcudart\n",
            "**********GPU info**********\n",
            "Name: Tesla T4\n",
            "Compute capability: 7.5\n",
            "Num SMs: 40\n",
            "Max num threads per SM: 1024\n",
            "Max num warps per SM: 32\n",
            "GMEM: 15835660288 byte\n",
            "SMEM per SM: 65536 byte\n",
            "SMEM per block: 49152 byte\n",
            "****************************\n",
            "Reading: ./data/fashion/train-images-idx3-ubyte\n",
            "Reading: ./data/fashion/t10k-images-idx3-ubyte\n",
            "Reading: ./data/fashion/train-labels-idx1-ubyte\n",
            "Reading: ./data/fashion/t10k-labels-idx1-ubyte\n",
            "mnist train number: 60000\n",
            "mnist test number: 10000\n",
            "[Convolution layer 1] - CPU time: 34202.9 ms\n",
            "[Convolution layer 3] - CPU time: 30142.9 ms\n",
            "----------------------------------------\n",
            "CPU accuracy: 0.8296\n"
          ]
        }
      ],
      "source": [
        "!make clean_test_cpu\n",
        "!make test_cpu\n",
        "!./test_cpu"
      ]
    },
    {
      "cell_type": "code",
      "execution_count": 6,
      "metadata": {
        "id": "ewP8QHDQwtXm",
        "outputId": "e263b842-7fb5-4ae4-c255-25acebd20c38",
        "colab": {
          "base_uri": "https://localhost:8080/"
        }
      },
      "outputs": [
        {
          "output_type": "stream",
          "name": "stdout",
          "text": [
            "rm -f src/layer/kernel/*.o\n",
            "nvcc -arch=sm_75 --compile src/layer/kernel/kernel.cu -o src/layer/kernel/kernel.o -I./ -L/usr/local/cuda/lib64 -lcudart \n",
            "nvcc -arch=sm_75 --compile src/layer/kernel/kernel_forward_0.cu -o src/layer/kernel/kernel_forward.o -I./ -L/usr/local/cuda/lib64 -lcudart\n",
            "rm -f save_train_parameters test\n",
            "rm -f *.o \n",
            "nvcc -arch=sm_75 --compile test.cc -I./ -L/usr/local/cuda/lib64 -lcudart\n",
            "nvcc -arch=sm_75 -o test -lm -lcuda -lrt test.o src/network.o src/mnist.o src/layer/*.o src/loss/*.o src/optimizer/*.o src/layer/kernel/*.o -I./ -L/usr/local/cuda/lib64 -lcudart\n",
            "**********GPU info**********\n",
            "Name: Tesla T4\n",
            "Compute capability: 7.5\n",
            "Num SMs: 40\n",
            "Max num threads per SM: 1024\n",
            "Max num warps per SM: 32\n",
            "GMEM: 15835660288 byte\n",
            "SMEM per SM: 65536 byte\n",
            "SMEM per block: 49152 byte\n",
            "****************************\n",
            "Reading: ./data/fashion/train-images-idx3-ubyte\n",
            "Reading: ./data/fashion/t10k-images-idx3-ubyte\n",
            "Reading: ./data/fashion/train-labels-idx1-ubyte\n",
            "Reading: ./data/fashion/t10k-labels-idx1-ubyte\n",
            "mnist train number: 60000\n",
            "mnist test number: 10000\n",
            "Basic GPU Convolution layer.\n",
            "[Convolution layer 1] - Kernel time: 120.652 ms\n",
            "Basic GPU Convolution layer.\n",
            "[Convolution layer 3] - Kernel time: 62.1708 ms\n",
            "----------------------------------------\n",
            "GPU accuracy: 0.8296\n"
          ]
        }
      ],
      "source": [
        "!make kernel_0\n",
        "!make clean_test\n",
        "!make test\n",
        "!./test"
      ]
    },
    {
      "cell_type": "code",
      "execution_count": 7,
      "metadata": {
        "colab": {
          "base_uri": "https://localhost:8080/"
        },
        "id": "b-uiBvwsjoRA",
        "outputId": "628bd4c2-d0a6-4fd9-9c21-7a7e75cf11ca"
      },
      "outputs": [
        {
          "output_type": "stream",
          "name": "stdout",
          "text": [
            "rm -f src/layer/kernel/*.o\n",
            "nvcc -arch=sm_75 --compile src/layer/kernel/kernel.cu -o src/layer/kernel/kernel.o -I./ -L/usr/local/cuda/lib64 -lcudart \n",
            "nvcc -arch=sm_75 --compile src/layer/kernel/kernel_forward_1.cu -o src/layer/kernel/kernel_forward.o -I./ -L/usr/local/cuda/lib64 -lcudart\n",
            "rm -f save_train_parameters test\n",
            "rm -f *.o \n",
            "nvcc -arch=sm_75 --compile test.cc -I./ -L/usr/local/cuda/lib64 -lcudart\n",
            "nvcc -arch=sm_75 -o test -lm -lcuda -lrt test.o src/network.o src/mnist.o src/layer/*.o src/loss/*.o src/optimizer/*.o src/layer/kernel/*.o -I./ -L/usr/local/cuda/lib64 -lcudart\n",
            "**********GPU info**********\n",
            "Name: Tesla T4\n",
            "Compute capability: 7.5\n",
            "Num SMs: 40\n",
            "Max num threads per SM: 1024\n",
            "Max num warps per SM: 32\n",
            "GMEM: 15835660288 byte\n",
            "SMEM per SM: 65536 byte\n",
            "SMEM per block: 49152 byte\n",
            "****************************\n",
            "Reading: ./data/fashion/train-images-idx3-ubyte\n",
            "Reading: ./data/fashion/t10k-images-idx3-ubyte\n",
            "Reading: ./data/fashion/train-labels-idx1-ubyte\n",
            "Reading: ./data/fashion/t10k-labels-idx1-ubyte\n",
            "mnist train number: 60000\n",
            "mnist test number: 10000\n",
            "GPU Convolution layer using unroll with matrix multiplication.\n",
            "[Convolution layer 1] - Kernel time: 168.009 ms\n",
            "GPU Convolution layer using unroll with matrix multiplication.\n",
            "[Convolution layer 3] - Kernel time: 87.9756 ms\n",
            "----------------------------------------\n",
            "GPU accuracy: 0.8296\n"
          ]
        }
      ],
      "source": [
        "!make kernel_1\n",
        "!make clean_test\n",
        "!make test\n",
        "!./test"
      ]
    },
    {
      "cell_type": "code",
      "execution_count": 8,
      "metadata": {
        "colab": {
          "base_uri": "https://localhost:8080/"
        },
        "id": "uS7dOk_YjpBZ",
        "outputId": "0c4d75a8-e182-40e5-9a0b-a31454bab501"
      },
      "outputs": [
        {
          "output_type": "stream",
          "name": "stdout",
          "text": [
            "rm -f src/layer/kernel/*.o\n",
            "nvcc -arch=sm_75 --compile src/layer/kernel/kernel.cu -o src/layer/kernel/kernel.o -I./ -L/usr/local/cuda/lib64 -lcudart \n",
            "nvcc -arch=sm_75 --compile src/layer/kernel/kernel_forward_2.cu -o src/layer/kernel/kernel_forward.o -I./ -L/usr/local/cuda/lib64 -lcudart\n",
            "rm -f save_train_parameters test\n",
            "rm -f *.o \n",
            "nvcc -arch=sm_75 --compile test.cc -I./ -L/usr/local/cuda/lib64 -lcudart\n",
            "nvcc -arch=sm_75 -o test -lm -lcuda -lrt test.o src/network.o src/mnist.o src/layer/*.o src/loss/*.o src/optimizer/*.o src/layer/kernel/*.o -I./ -L/usr/local/cuda/lib64 -lcudart\n",
            "**********GPU info**********\n",
            "Name: Tesla T4\n",
            "Compute capability: 7.5\n",
            "Num SMs: 40\n",
            "Max num threads per SM: 1024\n",
            "Max num warps per SM: 32\n",
            "GMEM: 15835660288 byte\n",
            "SMEM per SM: 65536 byte\n",
            "SMEM per block: 49152 byte\n",
            "****************************\n",
            "Reading: ./data/fashion/train-images-idx3-ubyte\n",
            "Reading: ./data/fashion/t10k-images-idx3-ubyte\n",
            "Reading: ./data/fashion/train-labels-idx1-ubyte\n",
            "Reading: ./data/fashion/t10k-labels-idx1-ubyte\n",
            "mnist train number: 60000\n",
            "mnist test number: 10000\n",
            "GPU Convolution layer optimized ver 3.\n",
            "[Convolution layer 1] - Kernel time: 131.343 ms\n",
            "GPU Convolution layer optimized ver 3.\n",
            "[Convolution layer 3] - Kernel time: 249.509 ms\n",
            "----------------------------------------\n",
            "GPU accuracy: 0.8296\n"
          ]
        }
      ],
      "source": [
        "!make kernel_2\n",
        "!make clean_test\n",
        "!make test\n",
        "!./test"
      ]
    }
  ],
  "metadata": {
    "accelerator": "GPU",
    "colab": {
      "gpuType": "T4",
      "provenance": []
    },
    "kernelspec": {
      "display_name": "Python 3",
      "name": "python3"
    },
    "language_info": {
      "name": "python"
    }
  },
  "nbformat": 4,
  "nbformat_minor": 0
}